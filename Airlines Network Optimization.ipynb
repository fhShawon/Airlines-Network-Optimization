{
 "cells": [
  {
   "cell_type": "markdown",
   "metadata": {
    "_cell_guid": "9624fdca-31a6-4032-a4b8-8551191bf9f5",
    "_uuid": "90ae3f9e42203df20e95332297ea8977672bbc53"
   },
   "source": [
    "# An example of Network Optimization (Airlines)"
   ]
  },
  {
   "cell_type": "markdown",
   "metadata": {
    "_cell_guid": "d0871906-fc36-4cf5-8faa-563902cb718b",
    "_uuid": "8220e1640d8eab3c1c37d0a2180ec9ac5557af71"
   },
   "source": [
    "## Import the ***libraries*** and ***dataset***"
   ]
  },
  {
   "cell_type": "code",
   "execution_count": 1,
   "metadata": {
    "_cell_guid": "b1076dfc-b9ad-4769-8c92-a6c4dae69d19",
    "_uuid": "8f2839f25d086af736a60e9eeb907d3b93b6e0e5",
    "scrolled": true
   },
   "outputs": [
    {
     "name": "stdout",
     "output_type": "stream",
     "text": [
      "    year  month  day  dep_time  sched_dep_time  dep_delay  arr_time  \\\n",
      "0   2013      2   26    1807.0            1630       97.0    1956.0   \n",
      "1   2013      8   17    1459.0            1445       14.0    1801.0   \n",
      "2   2013      2   13    1812.0            1815       -3.0    2055.0   \n",
      "3   2013      4   11    2122.0            2115        7.0    2339.0   \n",
      "4   2013      8    5    1832.0            1835       -3.0    2145.0   \n",
      "5   2013      6   30    1500.0            1505       -5.0    1751.0   \n",
      "6   2013      2   14    1442.0            1445       -3.0    1833.0   \n",
      "7   2013      7   25     752.0             755       -3.0    1037.0   \n",
      "8   2013      7   10     557.0             600       -3.0     725.0   \n",
      "9   2013     12   13    1907.0            1915       -8.0    2155.0   \n",
      "10  2013      1   28    1455.0            1500       -5.0    1647.0   \n",
      "11  2013      9    6     903.0             912       -9.0    1051.0   \n",
      "12  2013      8   19       NaN             620        NaN       NaN   \n",
      "13  2013      4    8     553.0             600       -7.0     657.0   \n",
      "14  2013      5   12     625.0             630       -5.0     824.0   \n",
      "15  2013      9   14     823.0             829       -6.0    1006.0   \n",
      "16  2013      5   11     649.0             700      -11.0     938.0   \n",
      "17  2013      7   29    2211.0            2155       16.0      48.0   \n",
      "18  2013      1    2     657.0             700       -3.0     806.0   \n",
      "19  2013      7   27     639.0             640       -1.0    1041.0   \n",
      "20  2013      2    9    1328.0            1330       -2.0    1549.0   \n",
      "21  2013      5    2    1859.0            1900       -1.0    2030.0   \n",
      "22  2013      9   17    1621.0            1627       -6.0    1743.0   \n",
      "23  2013      2   23     734.0             740       -6.0    1051.0   \n",
      "24  2013      1   13    1053.0            1100       -7.0    1209.0   \n",
      "25  2013      4    5    1203.0            1144       19.0    1515.0   \n",
      "26  2013      6   16     806.0             804        2.0    1014.0   \n",
      "27  2013      9    5     625.0             630       -5.0     815.0   \n",
      "28  2013      1   30    2134.0            1815      199.0    2326.0   \n",
      "29  2013     11   20    2036.0            2040       -4.0    2359.0   \n",
      "..   ...    ...  ...       ...             ...        ...       ...   \n",
      "70  2013     12   19    1557.0            1520       37.0    1739.0   \n",
      "71  2013     11   21     559.0             600       -1.0     829.0   \n",
      "72  2013      5   30    1755.0            1629       86.0    2032.0   \n",
      "73  2013      3   19    1337.0            1249       48.0    1626.0   \n",
      "74  2013      1   14    1349.0            1350       -1.0    1620.0   \n",
      "75  2013      9   14    1939.0            1945       -6.0    2034.0   \n",
      "76  2013      2   18    1651.0            1655       -4.0    1957.0   \n",
      "77  2013      7   14    1450.0            1455       -5.0    1639.0   \n",
      "78  2013     10   21     653.0             659       -6.0     931.0   \n",
      "79  2013      2   26     721.0             732      -11.0    1019.0   \n",
      "80  2013      5   26    1802.0            1810       -8.0    2047.0   \n",
      "81  2013      1    6    1434.0            1425        9.0    1619.0   \n",
      "82  2013      2   16    1517.0            1520       -3.0    1651.0   \n",
      "83  2013      3   17    1846.0            1855       -9.0    2051.0   \n",
      "84  2013     11   30    1821.0            1804       17.0    2103.0   \n",
      "85  2013      7    1    2311.0            1916      235.0     155.0   \n",
      "86  2013     10   30    1730.0            1734       -4.0    2041.0   \n",
      "87  2013      2   15    1000.0            1000        0.0    1117.0   \n",
      "88  2013      1   12    1915.0            1920       -5.0    2153.0   \n",
      "89  2013     12   13    1901.0            1900        1.0    2344.0   \n",
      "90  2013      9   12    2109.0            1910      119.0       9.0   \n",
      "91  2013      7   29    2017.0            1929       48.0    2236.0   \n",
      "92  2013      2   20    1234.0            1240       -6.0    1556.0   \n",
      "93  2013      6   20     950.0             950        0.0    1202.0   \n",
      "94  2013      1   23    2001.0            2005       -4.0    2248.0   \n",
      "95  2013     11   29    1129.0            1135       -6.0    1414.0   \n",
      "96  2013      3   10    1029.0            1029        0.0    1300.0   \n",
      "97  2013     11   25    1724.0            1725       -1.0    1828.0   \n",
      "98  2013      3    5     930.0             929        1.0    1421.0   \n",
      "99  2013      5   21     626.0             630       -4.0     858.0   \n",
      "\n",
      "    sched_arr_time  arr_delay carrier  flight tailnum origin dest  air_time  \\\n",
      "0             1837       79.0      EV    4411  N13566    EWR  MEM     144.0   \n",
      "1             1747       14.0      B6    1171  N661JB    LGA  FLL     147.0   \n",
      "2             2125      -30.0      AS       7  N403AS    EWR  SEA     315.0   \n",
      "3             2353      -14.0      B6      97  N656JB    JFK  DEN     221.0   \n",
      "4             2155      -10.0      AA     269  N3EYAA    JFK  SEA     358.0   \n",
      "5             1650       61.0      UA     685  N424UA    LGA  ORD     116.0   \n",
      "6             1747       46.0      UA     346  N446UA    EWR  MIA     200.0   \n",
      "7             1057      -20.0      DL    2395  N909DL    LGA  PBI     140.0   \n",
      "8              715       10.0      MQ    3267  N542MQ    EWR  ORD     113.0   \n",
      "9             2219      -24.0      DL    2159  N909DE    JFK  MCO     138.0   \n",
      "10            1655       -8.0      MQ    4429  N734MQ    LGA  CMH      83.0   \n",
      "11            1115      -24.0      EV    4348  N12163    EWR  MSP     138.0   \n",
      "12             817        NaN      EV    4963  N750EV    EWR  MSP       NaN   \n",
      "13             724      -27.0      EV    5689  N825AS    LGA  IAD      48.0   \n",
      "14             832       -8.0      US    1433  N188US    LGA  CLT      98.0   \n",
      "15            1017      -11.0      DL    1157  N324US    EWR  MSP     139.0   \n",
      "16            1006      -28.0      DL    2003  N317US    LGA  MIA     153.0   \n",
      "17              43        5.0      B6     425  N656JB    JFK  TPA     129.0   \n",
      "18             809       -3.0      US    2163  N945UW    LGA  DCA      46.0   \n",
      "19            1040        1.0      AA     413  N3FYAA    JFK  SJU     207.0   \n",
      "20            1603      -14.0      DL    2043  N3761R    JFK  ATL     108.0   \n",
      "21            2048      -18.0      EV    5038  N719EV    LGA  BHM     119.0   \n",
      "22            1754      -11.0      EV    6101  N14905    LGA  IAD      47.0   \n",
      "23            1044        7.0      B6     341  N632JB    JFK  SRQ     167.0   \n",
      "24            1215       -6.0      MQ    3792  N510MQ    JFK  DCA      57.0   \n",
      "25            1444       31.0      UA     684  N407UA    EWR  TPA     160.0   \n",
      "26            1013        1.0      EV    4304  N11150    EWR  MSY     161.0   \n",
      "27             840      -25.0      US    2085  N563UW    LGA  CLT      84.0   \n",
      "28            2037      169.0      9E    3424  N909XJ    JFK  DTW      85.0   \n",
      "29            2359        0.0      B6     523  N796JB    JFK  LAX     346.0   \n",
      "..             ...        ...     ...     ...     ...    ...  ...       ...   \n",
      "70            1705       34.0      AA     341  N3BKAA    LGA  ORD     130.0   \n",
      "71             825        4.0      WN    1716  N276WN    LGA  ATL     121.0   \n",
      "72            1927       65.0      B6     985  N793JB    LGA  TPA     135.0   \n",
      "73            1539       47.0      B6     991  N635JB    JFK  PBI     155.0   \n",
      "74            1624       -4.0      B6     615  N316JB    JFK  JAX     123.0   \n",
      "75            2105      -31.0      UA    1532  N38424    EWR  BOS      39.0   \n",
      "76            2030      -33.0      VX     413  N642VA    JFK  LAX     349.0   \n",
      "77            1701      -22.0      9E    4120  N8903A    JFK  CLE      72.0   \n",
      "78             955      -24.0      UA     537  N459UA    EWR  PBI     140.0   \n",
      "79            1038      -19.0      UA     630  N401UA    LGA  IAH     212.0   \n",
      "80            2110      -23.0      DL    2370  N3730B    LGA  PBI     129.0   \n",
      "81            1630      -11.0      EV    5164  N712EV    EWR  MSP     151.0   \n",
      "82            1653       -2.0      9E    4105  N839AY    JFK  IAD      55.0   \n",
      "83            2100       -9.0      US    1491  N543UW    LGA  CLT      95.0   \n",
      "84            2130      -27.0      UA    1735  N37437    EWR  LAX     319.0   \n",
      "85            2214      221.0      B6     883  N507JB    JFK  MCO     140.0   \n",
      "86            2046       -5.0      UA     418  N509UA    EWR  SFO     337.0   \n",
      "87            1139      -22.0      UA     434  N423UA    LGA  ORD     114.0   \n",
      "88            2246      -53.0      DL      83  N398DA    JFK  FLL     138.0   \n",
      "89            2359      -15.0      AA    1029  N5CPAA    JFK  SJU     190.0   \n",
      "90            2215      114.0      AA      21  N335AA    JFK  LAX     322.0   \n",
      "91            2212       24.0      DL    2041  N358NW    JFK  ATL      97.0   \n",
      "92            1540       16.0      AA    1853  N484AA    EWR  DFW     227.0   \n",
      "93            1205       -3.0      MQ    3644  N534MQ    LGA  ATL     106.0   \n",
      "94            2258      -10.0      UA     405  N402UA    EWR  MCO     136.0   \n",
      "95            1436      -22.0      DL    1875  N342NB    LGA  TPA     147.0   \n",
      "96            1344      -44.0      UA    1605  N37465    EWR  LAX     308.0   \n",
      "97            1845      -17.0      AA     256  N3CTAA    JFK  BOS      40.0   \n",
      "98            1426       -5.0      B6     215  N638JB    EWR  SJU     200.0   \n",
      "99             918      -20.0      UA     490  N447UA    LGA  IAH     189.0   \n",
      "\n",
      "    distance  \n",
      "0        946  \n",
      "1       1076  \n",
      "2       2402  \n",
      "3       1626  \n",
      "4       2422  \n",
      "5        733  \n",
      "6       1085  \n",
      "7       1035  \n",
      "8        719  \n",
      "9        944  \n",
      "10       479  \n",
      "11      1008  \n",
      "12      1008  \n",
      "13       229  \n",
      "14       544  \n",
      "15      1008  \n",
      "16      1096  \n",
      "17      1005  \n",
      "18       214  \n",
      "19      1598  \n",
      "20       760  \n",
      "21       866  \n",
      "22       229  \n",
      "23      1041  \n",
      "24       213  \n",
      "25       997  \n",
      "26      1167  \n",
      "27       544  \n",
      "28       509  \n",
      "29      2475  \n",
      "..       ...  \n",
      "70       733  \n",
      "71       762  \n",
      "72      1010  \n",
      "73      1028  \n",
      "74       828  \n",
      "75       200  \n",
      "76      2475  \n",
      "77       425  \n",
      "78      1023  \n",
      "79      1416  \n",
      "80      1035  \n",
      "81      1008  \n",
      "82       228  \n",
      "83       544  \n",
      "84      2454  \n",
      "85       944  \n",
      "86      2565  \n",
      "87       733  \n",
      "88      1069  \n",
      "89      1598  \n",
      "90      2475  \n",
      "91       760  \n",
      "92      1372  \n",
      "93       762  \n",
      "94       937  \n",
      "95      1010  \n",
      "96      2454  \n",
      "97       187  \n",
      "98      1608  \n",
      "99      1416  \n",
      "\n",
      "[100 rows x 16 columns]\n"
     ]
    }
   ],
   "source": [
    "# import the libraries\n",
    "import numpy as np # linear algebra\n",
    "import pandas as pd # data processing, CSV file I/O (e.g. pd.read_csv)\n",
    "import os\n",
    "\n",
    "# load the dataset\n",
    "data = pd.read_csv('airlines_network_optimization.csv') #pandas will read the csv file with header as there is no 'header=None' in the code.\n",
    "print(data)"
   ]
  },
  {
   "cell_type": "markdown",
   "metadata": {
    "_cell_guid": "595a6693-8f76-4cea-8eec-54d339a2456a",
    "_uuid": "b5274da309b97f412173148db9960f5b8a906802"
   },
   "source": [
    "## Preprocessing the dataset/ Feature Engineering"
   ]
  },
  {
   "cell_type": "code",
   "execution_count": 2,
   "metadata": {
    "_cell_guid": "79c7e3d0-c299-4dcb-8224-4455121ee9b0",
    "_uuid": "d629ff2d2480ee46fbb7e2d37f6b5fab8052498a"
   },
   "outputs": [],
   "source": [
    "# data.shape \n",
    "# converting sched_dep_time to 'std' - Scheduled time of departure\n",
    "data['std'] = data.sched_dep_time.astype(str).str.replace('(\\d{2}$)', '') + ':' + data.sched_dep_time.astype(str).str.extract('(\\d{2}$)', expand=False) + ':00'\n",
    "# converting sched_arr_time to 'sta' - Scheduled time of arrival\n",
    "data['sta'] = data.sched_arr_time.astype(str).str.replace('(\\d{2}$)', '') + ':' + data.sched_arr_time.astype(str).str.extract('(\\d{2}$)', expand=False) + ':00'\n",
    "\n",
    "# converting dep_time to 'atd' - Actual time of departure\n",
    "data['atd'] = data.dep_time.fillna(0).astype(np.int64).astype(str).str.replace('(\\d{2}$)', '') + ':' + data.dep_time.fillna(0).astype(np.int64).astype(str).str.extract('(\\d{2}$)', expand=False) + ':00'\n",
    "# converting arr_time to 'ata' - Actual time of arrival\n",
    "data['ata'] = data.arr_time.fillna(0).astype(np.int64).astype(str).str.replace('(\\d{2}$)', '') + ':' + data.arr_time.fillna(0).astype(np.int64).astype(str).str.extract('(\\d{2}$)', expand=False) + ':00'\n",
    "\n",
    "data['date'] = pd.to_datetime(data[['year', 'month', 'day']])\n",
    "# finally we drop the columns we don't need\n",
    "data = data.drop(columns = ['year', 'month', 'day'])"
   ]
  },
  {
   "cell_type": "markdown",
   "metadata": {},
   "source": [
    "data['std'] new column of data named 'std'"
   ]
  },
  {
   "cell_type": "markdown",
   "metadata": {},
   "source": [
    "sched_dep_time.astype(str)   take values from 'sched_dep_time' as string type"
   ]
  },
  {
   "cell_type": "markdown",
   "metadata": {},
   "source": [
    "The syntax of replace() is: str.replace(old, new, [count])\n",
    "\n",
    "str.replace('(\\d{2}$)', '')  replace first 2 digit with '', means do not replace"
   ]
  },
  {
   "cell_type": "markdown",
   "metadata": {},
   "source": [
    "+':' add a ':' after that"
   ]
  },
  {
   "cell_type": "markdown",
   "metadata": {},
   "source": [
    "str.extract('(\\d{2}$)'    extract 2 digit and add after : "
   ]
  },
  {
   "cell_type": "markdown",
   "metadata": {},
   "source": [
    "expand=False  means it will return a Series. expand=True would return a DataFrame with one column"
   ]
  },
  {
   "attachments": {},
   "cell_type": "markdown",
   "metadata": {},
   "source": [
    "add :00 after that"
   ]
  },
  {
   "cell_type": "markdown",
   "metadata": {},
   "source": [
    "fillna(0)    Fill NA/NaN values using the specified method. Here replaces all NaN elements with 0s. It was absent in previous lines of code. Because those were scheduled departure and arrival time which can not be Null. But if a plane fails to arrive then there would be no actual departure or arrival time thus N/A. fillna(0) replaces those datas with zero."
   ]
  },
  {
   "cell_type": "markdown",
   "metadata": {},
   "source": [
    "pd.to_datetime(data[['year', 'month', 'day']]) converts to datetime format"
   ]
  },
  {
   "cell_type": "markdown",
   "metadata": {},
   "source": [
    "data.drop(columns = ['year', 'month', 'day'])   removes the year, month and day column"
   ]
  },
  {
   "cell_type": "code",
   "execution_count": 3,
   "metadata": {},
   "outputs": [
    {
     "name": "stdout",
     "output_type": "stream",
     "text": [
      "    dep_time  sched_dep_time  dep_delay  arr_time  sched_arr_time  arr_delay  \\\n",
      "0     1807.0            1630       97.0    1956.0            1837       79.0   \n",
      "1     1459.0            1445       14.0    1801.0            1747       14.0   \n",
      "2     1812.0            1815       -3.0    2055.0            2125      -30.0   \n",
      "3     2122.0            2115        7.0    2339.0            2353      -14.0   \n",
      "4     1832.0            1835       -3.0    2145.0            2155      -10.0   \n",
      "5     1500.0            1505       -5.0    1751.0            1650       61.0   \n",
      "6     1442.0            1445       -3.0    1833.0            1747       46.0   \n",
      "7      752.0             755       -3.0    1037.0            1057      -20.0   \n",
      "8      557.0             600       -3.0     725.0             715       10.0   \n",
      "9     1907.0            1915       -8.0    2155.0            2219      -24.0   \n",
      "10    1455.0            1500       -5.0    1647.0            1655       -8.0   \n",
      "11     903.0             912       -9.0    1051.0            1115      -24.0   \n",
      "12       NaN             620        NaN       NaN             817        NaN   \n",
      "13     553.0             600       -7.0     657.0             724      -27.0   \n",
      "14     625.0             630       -5.0     824.0             832       -8.0   \n",
      "15     823.0             829       -6.0    1006.0            1017      -11.0   \n",
      "16     649.0             700      -11.0     938.0            1006      -28.0   \n",
      "17    2211.0            2155       16.0      48.0              43        5.0   \n",
      "18     657.0             700       -3.0     806.0             809       -3.0   \n",
      "19     639.0             640       -1.0    1041.0            1040        1.0   \n",
      "20    1328.0            1330       -2.0    1549.0            1603      -14.0   \n",
      "21    1859.0            1900       -1.0    2030.0            2048      -18.0   \n",
      "22    1621.0            1627       -6.0    1743.0            1754      -11.0   \n",
      "23     734.0             740       -6.0    1051.0            1044        7.0   \n",
      "24    1053.0            1100       -7.0    1209.0            1215       -6.0   \n",
      "25    1203.0            1144       19.0    1515.0            1444       31.0   \n",
      "26     806.0             804        2.0    1014.0            1013        1.0   \n",
      "27     625.0             630       -5.0     815.0             840      -25.0   \n",
      "28    2134.0            1815      199.0    2326.0            2037      169.0   \n",
      "29    2036.0            2040       -4.0    2359.0            2359        0.0   \n",
      "..       ...             ...        ...       ...             ...        ...   \n",
      "70    1557.0            1520       37.0    1739.0            1705       34.0   \n",
      "71     559.0             600       -1.0     829.0             825        4.0   \n",
      "72    1755.0            1629       86.0    2032.0            1927       65.0   \n",
      "73    1337.0            1249       48.0    1626.0            1539       47.0   \n",
      "74    1349.0            1350       -1.0    1620.0            1624       -4.0   \n",
      "75    1939.0            1945       -6.0    2034.0            2105      -31.0   \n",
      "76    1651.0            1655       -4.0    1957.0            2030      -33.0   \n",
      "77    1450.0            1455       -5.0    1639.0            1701      -22.0   \n",
      "78     653.0             659       -6.0     931.0             955      -24.0   \n",
      "79     721.0             732      -11.0    1019.0            1038      -19.0   \n",
      "80    1802.0            1810       -8.0    2047.0            2110      -23.0   \n",
      "81    1434.0            1425        9.0    1619.0            1630      -11.0   \n",
      "82    1517.0            1520       -3.0    1651.0            1653       -2.0   \n",
      "83    1846.0            1855       -9.0    2051.0            2100       -9.0   \n",
      "84    1821.0            1804       17.0    2103.0            2130      -27.0   \n",
      "85    2311.0            1916      235.0     155.0            2214      221.0   \n",
      "86    1730.0            1734       -4.0    2041.0            2046       -5.0   \n",
      "87    1000.0            1000        0.0    1117.0            1139      -22.0   \n",
      "88    1915.0            1920       -5.0    2153.0            2246      -53.0   \n",
      "89    1901.0            1900        1.0    2344.0            2359      -15.0   \n",
      "90    2109.0            1910      119.0       9.0            2215      114.0   \n",
      "91    2017.0            1929       48.0    2236.0            2212       24.0   \n",
      "92    1234.0            1240       -6.0    1556.0            1540       16.0   \n",
      "93     950.0             950        0.0    1202.0            1205       -3.0   \n",
      "94    2001.0            2005       -4.0    2248.0            2258      -10.0   \n",
      "95    1129.0            1135       -6.0    1414.0            1436      -22.0   \n",
      "96    1029.0            1029        0.0    1300.0            1344      -44.0   \n",
      "97    1724.0            1725       -1.0    1828.0            1845      -17.0   \n",
      "98     930.0             929        1.0    1421.0            1426       -5.0   \n",
      "99     626.0             630       -4.0     858.0             918      -20.0   \n",
      "\n",
      "   carrier  flight tailnum origin dest  air_time  distance       std  \\\n",
      "0       EV    4411  N13566    EWR  MEM     144.0       946  16:30:00   \n",
      "1       B6    1171  N661JB    LGA  FLL     147.0      1076  14:45:00   \n",
      "2       AS       7  N403AS    EWR  SEA     315.0      2402  18:15:00   \n",
      "3       B6      97  N656JB    JFK  DEN     221.0      1626  21:15:00   \n",
      "4       AA     269  N3EYAA    JFK  SEA     358.0      2422  18:35:00   \n",
      "5       UA     685  N424UA    LGA  ORD     116.0       733  15:05:00   \n",
      "6       UA     346  N446UA    EWR  MIA     200.0      1085  14:45:00   \n",
      "7       DL    2395  N909DL    LGA  PBI     140.0      1035   7:55:00   \n",
      "8       MQ    3267  N542MQ    EWR  ORD     113.0       719   6:00:00   \n",
      "9       DL    2159  N909DE    JFK  MCO     138.0       944  19:15:00   \n",
      "10      MQ    4429  N734MQ    LGA  CMH      83.0       479  15:00:00   \n",
      "11      EV    4348  N12163    EWR  MSP     138.0      1008   9:12:00   \n",
      "12      EV    4963  N750EV    EWR  MSP       NaN      1008   6:20:00   \n",
      "13      EV    5689  N825AS    LGA  IAD      48.0       229   6:00:00   \n",
      "14      US    1433  N188US    LGA  CLT      98.0       544   6:30:00   \n",
      "15      DL    1157  N324US    EWR  MSP     139.0      1008   8:29:00   \n",
      "16      DL    2003  N317US    LGA  MIA     153.0      1096   7:00:00   \n",
      "17      B6     425  N656JB    JFK  TPA     129.0      1005  21:55:00   \n",
      "18      US    2163  N945UW    LGA  DCA      46.0       214   7:00:00   \n",
      "19      AA     413  N3FYAA    JFK  SJU     207.0      1598   6:40:00   \n",
      "20      DL    2043  N3761R    JFK  ATL     108.0       760  13:30:00   \n",
      "21      EV    5038  N719EV    LGA  BHM     119.0       866  19:00:00   \n",
      "22      EV    6101  N14905    LGA  IAD      47.0       229  16:27:00   \n",
      "23      B6     341  N632JB    JFK  SRQ     167.0      1041   7:40:00   \n",
      "24      MQ    3792  N510MQ    JFK  DCA      57.0       213  11:00:00   \n",
      "25      UA     684  N407UA    EWR  TPA     160.0       997  11:44:00   \n",
      "26      EV    4304  N11150    EWR  MSY     161.0      1167   8:04:00   \n",
      "27      US    2085  N563UW    LGA  CLT      84.0       544   6:30:00   \n",
      "28      9E    3424  N909XJ    JFK  DTW      85.0       509  18:15:00   \n",
      "29      B6     523  N796JB    JFK  LAX     346.0      2475  20:40:00   \n",
      "..     ...     ...     ...    ...  ...       ...       ...       ...   \n",
      "70      AA     341  N3BKAA    LGA  ORD     130.0       733  15:20:00   \n",
      "71      WN    1716  N276WN    LGA  ATL     121.0       762   6:00:00   \n",
      "72      B6     985  N793JB    LGA  TPA     135.0      1010  16:29:00   \n",
      "73      B6     991  N635JB    JFK  PBI     155.0      1028  12:49:00   \n",
      "74      B6     615  N316JB    JFK  JAX     123.0       828  13:50:00   \n",
      "75      UA    1532  N38424    EWR  BOS      39.0       200  19:45:00   \n",
      "76      VX     413  N642VA    JFK  LAX     349.0      2475  16:55:00   \n",
      "77      9E    4120  N8903A    JFK  CLE      72.0       425  14:55:00   \n",
      "78      UA     537  N459UA    EWR  PBI     140.0      1023   6:59:00   \n",
      "79      UA     630  N401UA    LGA  IAH     212.0      1416   7:32:00   \n",
      "80      DL    2370  N3730B    LGA  PBI     129.0      1035  18:10:00   \n",
      "81      EV    5164  N712EV    EWR  MSP     151.0      1008  14:25:00   \n",
      "82      9E    4105  N839AY    JFK  IAD      55.0       228  15:20:00   \n",
      "83      US    1491  N543UW    LGA  CLT      95.0       544  18:55:00   \n",
      "84      UA    1735  N37437    EWR  LAX     319.0      2454  18:04:00   \n",
      "85      B6     883  N507JB    JFK  MCO     140.0       944  19:16:00   \n",
      "86      UA     418  N509UA    EWR  SFO     337.0      2565  17:34:00   \n",
      "87      UA     434  N423UA    LGA  ORD     114.0       733  10:00:00   \n",
      "88      DL      83  N398DA    JFK  FLL     138.0      1069  19:20:00   \n",
      "89      AA    1029  N5CPAA    JFK  SJU     190.0      1598  19:00:00   \n",
      "90      AA      21  N335AA    JFK  LAX     322.0      2475  19:10:00   \n",
      "91      DL    2041  N358NW    JFK  ATL      97.0       760  19:29:00   \n",
      "92      AA    1853  N484AA    EWR  DFW     227.0      1372  12:40:00   \n",
      "93      MQ    3644  N534MQ    LGA  ATL     106.0       762   9:50:00   \n",
      "94      UA     405  N402UA    EWR  MCO     136.0       937  20:05:00   \n",
      "95      DL    1875  N342NB    LGA  TPA     147.0      1010  11:35:00   \n",
      "96      UA    1605  N37465    EWR  LAX     308.0      2454  10:29:00   \n",
      "97      AA     256  N3CTAA    JFK  BOS      40.0       187  17:25:00   \n",
      "98      B6     215  N638JB    EWR  SJU     200.0      1608   9:29:00   \n",
      "99      UA     490  N447UA    LGA  IAH     189.0      1416   6:30:00   \n",
      "\n",
      "         sta       atd       ata       date  \n",
      "0   18:37:00  18:07:00  19:56:00 2013-02-26  \n",
      "1   17:47:00  14:59:00  18:01:00 2013-08-17  \n",
      "2   21:25:00  18:12:00  20:55:00 2013-02-13  \n",
      "3   23:53:00  21:22:00  23:39:00 2013-04-11  \n",
      "4   21:55:00  18:32:00  21:45:00 2013-08-05  \n",
      "5   16:50:00  15:00:00  17:51:00 2013-06-30  \n",
      "6   17:47:00  14:42:00  18:33:00 2013-02-14  \n",
      "7   10:57:00   7:52:00  10:37:00 2013-07-25  \n",
      "8    7:15:00   5:57:00   7:25:00 2013-07-10  \n",
      "9   22:19:00  19:07:00  21:55:00 2013-12-13  \n",
      "10  16:55:00  14:55:00  16:47:00 2013-01-28  \n",
      "11  11:15:00   9:03:00  10:51:00 2013-09-06  \n",
      "12   8:17:00       NaN       NaN 2013-08-19  \n",
      "13   7:24:00   5:53:00   6:57:00 2013-04-08  \n",
      "14   8:32:00   6:25:00   8:24:00 2013-05-12  \n",
      "15  10:17:00   8:23:00  10:06:00 2013-09-14  \n",
      "16  10:06:00   6:49:00   9:38:00 2013-05-11  \n",
      "17    :43:00  22:11:00    :48:00 2013-07-29  \n",
      "18   8:09:00   6:57:00   8:06:00 2013-01-02  \n",
      "19  10:40:00   6:39:00  10:41:00 2013-07-27  \n",
      "20  16:03:00  13:28:00  15:49:00 2013-02-09  \n",
      "21  20:48:00  18:59:00  20:30:00 2013-05-02  \n",
      "22  17:54:00  16:21:00  17:43:00 2013-09-17  \n",
      "23  10:44:00   7:34:00  10:51:00 2013-02-23  \n",
      "24  12:15:00  10:53:00  12:09:00 2013-01-13  \n",
      "25  14:44:00  12:03:00  15:15:00 2013-04-05  \n",
      "26  10:13:00   8:06:00  10:14:00 2013-06-16  \n",
      "27   8:40:00   6:25:00   8:15:00 2013-09-05  \n",
      "28  20:37:00  21:34:00  23:26:00 2013-01-30  \n",
      "29  23:59:00  20:36:00  23:59:00 2013-11-20  \n",
      "..       ...       ...       ...        ...  \n",
      "70  17:05:00  15:57:00  17:39:00 2013-12-19  \n",
      "71   8:25:00   5:59:00   8:29:00 2013-11-21  \n",
      "72  19:27:00  17:55:00  20:32:00 2013-05-30  \n",
      "73  15:39:00  13:37:00  16:26:00 2013-03-19  \n",
      "74  16:24:00  13:49:00  16:20:00 2013-01-14  \n",
      "75  21:05:00  19:39:00  20:34:00 2013-09-14  \n",
      "76  20:30:00  16:51:00  19:57:00 2013-02-18  \n",
      "77  17:01:00  14:50:00  16:39:00 2013-07-14  \n",
      "78   9:55:00   6:53:00   9:31:00 2013-10-21  \n",
      "79  10:38:00   7:21:00  10:19:00 2013-02-26  \n",
      "80  21:10:00  18:02:00  20:47:00 2013-05-26  \n",
      "81  16:30:00  14:34:00  16:19:00 2013-01-06  \n",
      "82  16:53:00  15:17:00  16:51:00 2013-02-16  \n",
      "83  21:00:00  18:46:00  20:51:00 2013-03-17  \n",
      "84  21:30:00  18:21:00  21:03:00 2013-11-30  \n",
      "85  22:14:00  23:11:00   1:55:00 2013-07-01  \n",
      "86  20:46:00  17:30:00  20:41:00 2013-10-30  \n",
      "87  11:39:00  10:00:00  11:17:00 2013-02-15  \n",
      "88  22:46:00  19:15:00  21:53:00 2013-01-12  \n",
      "89  23:59:00  19:01:00  23:44:00 2013-12-13  \n",
      "90  22:15:00  21:09:00       NaN 2013-09-12  \n",
      "91  22:12:00  20:17:00  22:36:00 2013-07-29  \n",
      "92  15:40:00  12:34:00  15:56:00 2013-02-20  \n",
      "93  12:05:00   9:50:00  12:02:00 2013-06-20  \n",
      "94  22:58:00  20:01:00  22:48:00 2013-01-23  \n",
      "95  14:36:00  11:29:00  14:14:00 2013-11-29  \n",
      "96  13:44:00  10:29:00  13:00:00 2013-03-10  \n",
      "97  18:45:00  17:24:00  18:28:00 2013-11-25  \n",
      "98  14:26:00   9:30:00  14:21:00 2013-03-05  \n",
      "99   9:18:00   6:26:00   8:58:00 2013-05-21  \n",
      "\n",
      "[100 rows x 18 columns]\n"
     ]
    }
   ],
   "source": [
    "print(data)"
   ]
  },
  {
   "cell_type": "markdown",
   "metadata": {
    "_cell_guid": "cdb102aa-9033-4127-96c3-2aa478c1370d",
    "_uuid": "0bfcb6133174ee65cedc16bead19fba3a2ce678d"
   },
   "source": [
    "## Formulate the Network which will be optimized"
   ]
  },
  {
   "cell_type": "code",
   "execution_count": 4,
   "metadata": {
    "_cell_guid": "36eeb170-2e59-4545-a6b2-dac4478b9191",
    "_uuid": "59fa22b22d713836c4ec810b7d72586c49480116"
   },
   "outputs": [],
   "source": [
    "import networkx as nx\n",
    "FG = nx.from_pandas_edgelist(data, source='origin', target='dest', edge_attr=True,)\n",
    "# detail documentation of networkx https://networkx.github.io/documentation/networkx-1.7/reference/generated/networkx.drawing.nx_pylab.draw_networkx.html"
   ]
  },
  {
   "cell_type": "code",
   "execution_count": 5,
   "metadata": {
    "_cell_guid": "6e9ef8a3-6b21-46bd-ba58-683fb6a9ef77",
    "_uuid": "fcdb4072d666484a87ab7673705ce95ad8a0f803"
   },
   "outputs": [],
   "source": [
    "FG.nodes()\n",
    "FG.edges()\n",
    "nx.draw_networkx(FG, with_labels=True,node_size=600, node_color='y') # Quick view of the Graph. As expected we see 3 very busy airports"
   ]
  },
  {
   "cell_type": "code",
   "execution_count": 6,
   "metadata": {
    "_cell_guid": "3df2b8a0-d3b3-4c60-94eb-7130bdb5e240",
    "_uuid": "bfa7209d42cef3c9a746384fb8c2e343f9e71e3d"
   },
   "outputs": [
    {
     "data": {
      "text/plain": [
       "{20: 1.95, 1: 19.307692307692307, 2: 19.0625, 17: 2.0588235294117645, 3: 19.0}"
      ]
     },
     "execution_count": 6,
     "metadata": {},
     "output_type": "execute_result"
    }
   ],
   "source": [
    "nx.algorithms.degree_centrality(FG) # Notice the 3 airports from which all of our 100 rows of data originates\n",
    "nx.density(FG) # Average edge density of the Graphs\n",
    "nx.average_shortest_path_length(FG) # Average shortest path length for ALL paths in the Graph\n",
    "nx.average_degree_connectivity(FG) # For a node of degree k - What is the average of its neighbours' degree?"
   ]
  },
  {
   "cell_type": "markdown",
   "metadata": {
    "_cell_guid": "50f47761-154b-4269-b0b2-c8accbc5da68",
    "_uuid": "b846a85f7ce14b91e213139f2dc95247194146ac"
   },
   "source": [
    "## Shortest path between JAX to DFW"
   ]
  },
  {
   "cell_type": "code",
   "execution_count": 7,
   "metadata": {
    "_cell_guid": "4ac19daf-3594-42e8-b6aa-847d69cfae6b",
    "_uuid": "caf97ea83db6f25a31246ac584c6533b6a0cce22",
    "scrolled": false
   },
   "outputs": [
    {
     "name": "stdout",
     "output_type": "stream",
     "text": [
      "['JAX', 'JFK', 'DEN', 'LGA', 'ORD', 'EWR', 'DFW']\n",
      "['JAX', 'JFK', 'DEN', 'LGA', 'PBI', 'EWR', 'DFW']\n",
      "['JAX', 'JFK', 'DEN', 'LGA', 'IAD', 'EWR', 'DFW']\n",
      "['JAX', 'JFK', 'DEN', 'LGA', 'MIA', 'EWR', 'DFW']\n",
      "['JAX', 'JFK', 'DEN', 'LGA', 'RDU', 'EWR', 'DFW']\n",
      "['JAX', 'JFK', 'DEN', 'LGA', 'TPA', 'EWR', 'DFW']\n",
      "['JAX', 'JFK', 'DEN', 'LGA', 'MSP', 'EWR', 'DFW']\n",
      "['JAX', 'JFK', 'DEN', 'LGA', 'MCO', 'EWR', 'DFW']\n",
      "['JAX', 'JFK', 'DEN', 'LGA', 'CVG', 'EWR', 'DFW']\n",
      "['JAX', 'JFK', 'DEN', 'LGA', 'IAH', 'EWR', 'DFW']\n",
      "['JAX', 'JFK', 'SEA', 'EWR', 'DFW']\n",
      "['JAX', 'JFK', 'MCO', 'LGA', 'ORD', 'EWR', 'DFW']\n",
      "['JAX', 'JFK', 'MCO', 'LGA', 'PBI', 'EWR', 'DFW']\n",
      "['JAX', 'JFK', 'MCO', 'LGA', 'IAD', 'EWR', 'DFW']\n",
      "['JAX', 'JFK', 'MCO', 'LGA', 'MIA', 'EWR', 'DFW']\n",
      "['JAX', 'JFK', 'MCO', 'LGA', 'RDU', 'EWR', 'DFW']\n",
      "['JAX', 'JFK', 'MCO', 'LGA', 'TPA', 'EWR', 'DFW']\n",
      "['JAX', 'JFK', 'MCO', 'LGA', 'MSP', 'EWR', 'DFW']\n",
      "['JAX', 'JFK', 'MCO', 'LGA', 'CVG', 'EWR', 'DFW']\n",
      "['JAX', 'JFK', 'MCO', 'LGA', 'IAH', 'EWR', 'DFW']\n",
      "['JAX', 'JFK', 'MCO', 'EWR', 'DFW']\n",
      "['JAX', 'JFK', 'TPA', 'EWR', 'DFW']\n",
      "['JAX', 'JFK', 'TPA', 'LGA', 'ORD', 'EWR', 'DFW']\n",
      "['JAX', 'JFK', 'TPA', 'LGA', 'PBI', 'EWR', 'DFW']\n",
      "['JAX', 'JFK', 'TPA', 'LGA', 'IAD', 'EWR', 'DFW']\n",
      "['JAX', 'JFK', 'TPA', 'LGA', 'MIA', 'EWR', 'DFW']\n",
      "['JAX', 'JFK', 'TPA', 'LGA', 'RDU', 'EWR', 'DFW']\n",
      "['JAX', 'JFK', 'TPA', 'LGA', 'MSP', 'EWR', 'DFW']\n",
      "['JAX', 'JFK', 'TPA', 'LGA', 'MCO', 'EWR', 'DFW']\n",
      "['JAX', 'JFK', 'TPA', 'LGA', 'CVG', 'EWR', 'DFW']\n",
      "['JAX', 'JFK', 'TPA', 'LGA', 'IAH', 'EWR', 'DFW']\n",
      "['JAX', 'JFK', 'SJU', 'EWR', 'DFW']\n",
      "['JAX', 'JFK', 'ATL', 'LGA', 'ORD', 'EWR', 'DFW']\n",
      "['JAX', 'JFK', 'ATL', 'LGA', 'PBI', 'EWR', 'DFW']\n",
      "['JAX', 'JFK', 'ATL', 'LGA', 'IAD', 'EWR', 'DFW']\n",
      "['JAX', 'JFK', 'ATL', 'LGA', 'MIA', 'EWR', 'DFW']\n",
      "['JAX', 'JFK', 'ATL', 'LGA', 'RDU', 'EWR', 'DFW']\n",
      "['JAX', 'JFK', 'ATL', 'LGA', 'TPA', 'EWR', 'DFW']\n",
      "['JAX', 'JFK', 'ATL', 'LGA', 'MSP', 'EWR', 'DFW']\n",
      "['JAX', 'JFK', 'ATL', 'LGA', 'MCO', 'EWR', 'DFW']\n",
      "['JAX', 'JFK', 'ATL', 'LGA', 'CVG', 'EWR', 'DFW']\n",
      "['JAX', 'JFK', 'ATL', 'LGA', 'IAH', 'EWR', 'DFW']\n",
      "['JAX', 'JFK', 'DCA', 'LGA', 'ORD', 'EWR', 'DFW']\n",
      "['JAX', 'JFK', 'DCA', 'LGA', 'PBI', 'EWR', 'DFW']\n",
      "['JAX', 'JFK', 'DCA', 'LGA', 'IAD', 'EWR', 'DFW']\n",
      "['JAX', 'JFK', 'DCA', 'LGA', 'MIA', 'EWR', 'DFW']\n",
      "['JAX', 'JFK', 'DCA', 'LGA', 'RDU', 'EWR', 'DFW']\n",
      "['JAX', 'JFK', 'DCA', 'LGA', 'TPA', 'EWR', 'DFW']\n",
      "['JAX', 'JFK', 'DCA', 'LGA', 'MSP', 'EWR', 'DFW']\n",
      "['JAX', 'JFK', 'DCA', 'LGA', 'MCO', 'EWR', 'DFW']\n",
      "['JAX', 'JFK', 'DCA', 'LGA', 'CVG', 'EWR', 'DFW']\n",
      "['JAX', 'JFK', 'DCA', 'LGA', 'IAH', 'EWR', 'DFW']\n",
      "['JAX', 'JFK', 'DTW', 'LGA', 'ORD', 'EWR', 'DFW']\n",
      "['JAX', 'JFK', 'DTW', 'LGA', 'PBI', 'EWR', 'DFW']\n",
      "['JAX', 'JFK', 'DTW', 'LGA', 'IAD', 'EWR', 'DFW']\n",
      "['JAX', 'JFK', 'DTW', 'LGA', 'MIA', 'EWR', 'DFW']\n",
      "['JAX', 'JFK', 'DTW', 'LGA', 'RDU', 'EWR', 'DFW']\n",
      "['JAX', 'JFK', 'DTW', 'LGA', 'TPA', 'EWR', 'DFW']\n",
      "['JAX', 'JFK', 'DTW', 'LGA', 'MSP', 'EWR', 'DFW']\n",
      "['JAX', 'JFK', 'DTW', 'LGA', 'MCO', 'EWR', 'DFW']\n",
      "['JAX', 'JFK', 'DTW', 'LGA', 'CVG', 'EWR', 'DFW']\n",
      "['JAX', 'JFK', 'DTW', 'LGA', 'IAH', 'EWR', 'DFW']\n",
      "['JAX', 'JFK', 'LAX', 'EWR', 'DFW']\n",
      "['JAX', 'JFK', 'FLL', 'LGA', 'ORD', 'EWR', 'DFW']\n",
      "['JAX', 'JFK', 'FLL', 'LGA', 'PBI', 'EWR', 'DFW']\n",
      "['JAX', 'JFK', 'FLL', 'LGA', 'IAD', 'EWR', 'DFW']\n",
      "['JAX', 'JFK', 'FLL', 'LGA', 'MIA', 'EWR', 'DFW']\n",
      "['JAX', 'JFK', 'FLL', 'LGA', 'RDU', 'EWR', 'DFW']\n",
      "['JAX', 'JFK', 'FLL', 'LGA', 'TPA', 'EWR', 'DFW']\n",
      "['JAX', 'JFK', 'FLL', 'LGA', 'MSP', 'EWR', 'DFW']\n",
      "['JAX', 'JFK', 'FLL', 'LGA', 'MCO', 'EWR', 'DFW']\n",
      "['JAX', 'JFK', 'FLL', 'LGA', 'CVG', 'EWR', 'DFW']\n",
      "['JAX', 'JFK', 'FLL', 'LGA', 'IAH', 'EWR', 'DFW']\n",
      "['JAX', 'JFK', 'CLT', 'LGA', 'ORD', 'EWR', 'DFW']\n",
      "['JAX', 'JFK', 'CLT', 'LGA', 'PBI', 'EWR', 'DFW']\n",
      "['JAX', 'JFK', 'CLT', 'LGA', 'IAD', 'EWR', 'DFW']\n",
      "['JAX', 'JFK', 'CLT', 'LGA', 'MIA', 'EWR', 'DFW']\n",
      "['JAX', 'JFK', 'CLT', 'LGA', 'RDU', 'EWR', 'DFW']\n",
      "['JAX', 'JFK', 'CLT', 'LGA', 'TPA', 'EWR', 'DFW']\n",
      "['JAX', 'JFK', 'CLT', 'LGA', 'MSP', 'EWR', 'DFW']\n",
      "['JAX', 'JFK', 'CLT', 'LGA', 'MCO', 'EWR', 'DFW']\n",
      "['JAX', 'JFK', 'CLT', 'LGA', 'CVG', 'EWR', 'DFW']\n",
      "['JAX', 'JFK', 'CLT', 'LGA', 'IAH', 'EWR', 'DFW']\n",
      "['JAX', 'JFK', 'PBI', 'LGA', 'ORD', 'EWR', 'DFW']\n",
      "['JAX', 'JFK', 'PBI', 'LGA', 'IAD', 'EWR', 'DFW']\n",
      "['JAX', 'JFK', 'PBI', 'LGA', 'MIA', 'EWR', 'DFW']\n",
      "['JAX', 'JFK', 'PBI', 'LGA', 'RDU', 'EWR', 'DFW']\n",
      "['JAX', 'JFK', 'PBI', 'LGA', 'TPA', 'EWR', 'DFW']\n",
      "['JAX', 'JFK', 'PBI', 'LGA', 'MSP', 'EWR', 'DFW']\n",
      "['JAX', 'JFK', 'PBI', 'LGA', 'MCO', 'EWR', 'DFW']\n",
      "['JAX', 'JFK', 'PBI', 'LGA', 'CVG', 'EWR', 'DFW']\n",
      "['JAX', 'JFK', 'PBI', 'LGA', 'IAH', 'EWR', 'DFW']\n",
      "['JAX', 'JFK', 'PBI', 'EWR', 'DFW']\n",
      "['JAX', 'JFK', 'IAD', 'LGA', 'ORD', 'EWR', 'DFW']\n",
      "['JAX', 'JFK', 'IAD', 'LGA', 'PBI', 'EWR', 'DFW']\n",
      "['JAX', 'JFK', 'IAD', 'LGA', 'MIA', 'EWR', 'DFW']\n",
      "['JAX', 'JFK', 'IAD', 'LGA', 'RDU', 'EWR', 'DFW']\n",
      "['JAX', 'JFK', 'IAD', 'LGA', 'TPA', 'EWR', 'DFW']\n",
      "['JAX', 'JFK', 'IAD', 'LGA', 'MSP', 'EWR', 'DFW']\n",
      "['JAX', 'JFK', 'IAD', 'LGA', 'MCO', 'EWR', 'DFW']\n",
      "['JAX', 'JFK', 'IAD', 'LGA', 'CVG', 'EWR', 'DFW']\n",
      "['JAX', 'JFK', 'IAD', 'LGA', 'IAH', 'EWR', 'DFW']\n",
      "['JAX', 'JFK', 'IAD', 'EWR', 'DFW']\n",
      "['JAX', 'JFK', 'BOS', 'EWR', 'DFW']\n"
     ]
    },
    {
     "data": {
      "text/plain": [
       "['JAX', 'JFK', 'BOS', 'EWR', 'DFW']"
      ]
     },
     "execution_count": 7,
     "metadata": {},
     "output_type": "execute_result"
    }
   ],
   "source": [
    "# Let us find all the paths available\n",
    "for path in nx.all_simple_paths(FG, source='JAX', target='DFW'):\n",
    " print(path)\n",
    "# Let us find the dijkstra path from JAX to DFW.\n",
    "# You can read more in-depth on how dijkstra works from this resource - https://courses.csail.mit.edu/6.006/fall11/lectures/lecture16.pdf\n",
    "dijpath = nx.dijkstra_path(FG, source='JAX', target='DFW')\n",
    "dijpath\n",
    "# Let us try to find the dijkstra path weighted by airtime (approximate case)\n",
    "shortpath = nx.dijkstra_path(FG, source='JAX', target='DFW', weight='air_time')\n",
    "shortpath"
   ]
  },
  {
   "cell_type": "markdown",
   "metadata": {
    "_cell_guid": "a7180938-3ebd-4435-9e26-6b68bb0fe99d",
    "_uuid": "4d7442b7f7ab86fd4f91c3e675c5e9e9a156df58",
    "collapsed": true
   },
   "source": [
    "Note:  this code is inspired by www.analyticsvidhya.com/blog/2018/04/introduction-to-graph-theory-network-analysis-python-codes/"
   ]
  },
  {
   "cell_type": "code",
   "execution_count": null,
   "metadata": {
    "_uuid": "cbccc76f867d6f4bc0e1b859b940cc336ad9b1f7"
   },
   "outputs": [],
   "source": []
  }
 ],
 "metadata": {
  "kernelspec": {
   "display_name": "Python 3",
   "language": "python",
   "name": "python3"
  },
  "language_info": {
   "codemirror_mode": {
    "name": "ipython",
    "version": 3
   },
   "file_extension": ".py",
   "mimetype": "text/x-python",
   "name": "python",
   "nbconvert_exporter": "python",
   "pygments_lexer": "ipython3",
   "version": "3.6.4"
  }
 },
 "nbformat": 4,
 "nbformat_minor": 1
}
